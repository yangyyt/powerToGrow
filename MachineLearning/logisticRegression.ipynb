{
 "cells": [
  {
   "cell_type": "markdown",
   "metadata": {},
   "source": [
    "# Logistic回归"
   ]
  },
  {
   "cell_type": "markdown",
   "metadata": {},
   "source": [
    "根据现有数据对分类边界线建立回归公式，以此进行分类。要找到最佳拟合参数集。"
   ]
  },
  {
   "cell_type": "markdown",
   "metadata": {},
   "source": [
    "### 梯度上升法\n",
    "要找到某函数的最大值，最好的方法是沿着该函数的梯度方向探寻。"
   ]
  },
  {
   "cell_type": "code",
   "execution_count": 24,
   "metadata": {},
   "outputs": [],
   "source": [
    "import numpy as np\n",
    "#加载数据集\n",
    "def loadDataSet():\n",
    "    dataMat=[]\n",
    "    labelMat=[]\n",
    "    fr=open('testSet.txt')\n",
    "    for line in fr.readlines():\n",
    "        lineArr=line.strip().split()\n",
    "        dataMat.append([1.0,float(lineArr[0]),float(lineArr[1])])\n",
    "        labelMat.append(int(lineArr[2]))\n",
    "    return dataMat,labelMat\n",
    "\n",
    "#sigmoid函数\n",
    "def sigmoid(inX):\n",
    "    return 1.0/(1+np.exp(-inX))\n",
    "\n",
    "#logistic回归梯度上升优化算法\n",
    "def gradAscent(dataMatIn,classLabels):\n",
    "    dataMatrix=np.mat(dataMatIn)   #转换成矩阵形式\n",
    "    labelMat=np.mat(classLabels).transpose()    \n",
    "    m,n=np.shape(dataMatrix)\n",
    "    alpha=0.001\n",
    "    maxCycles=500   #迭代次数\n",
    "    weights=np.ones((n,1))  #3个权重，都初始化为1\n",
    "    for k in range(maxCycles):\n",
    "        h=sigmoid(dataMatrix*weights)\n",
    "        error=(labelMat-h)\n",
    "        weights=weights+alpha*dataMatrix.transpose()*error  #权重更新公式：3*100 * 100*1 = 3*1\n",
    "    return weights"
   ]
  },
  {
   "cell_type": "code",
   "execution_count": 17,
   "metadata": {},
   "outputs": [
    {
     "data": {
      "text/plain": [
       "matrix([[ 4.12414349],\n",
       "        [ 0.48007329],\n",
       "        [-0.6168482 ]])"
      ]
     },
     "execution_count": 17,
     "metadata": {},
     "output_type": "execute_result"
    }
   ],
   "source": [
    "dataArr,labelMat=loadDataSet()\n",
    "gradAscent(dataArr,labelMat)"
   ]
  },
  {
   "cell_type": "code",
   "execution_count": 21,
   "metadata": {},
   "outputs": [],
   "source": [
    "#画出数据集和logistic回归最佳拟合直线的函数\n",
    "def plotBestFit(weights):\n",
    "    import matplotlib.pyplot as plt\n",
    "    %matplotlib inline\n",
    "    dataMat,labelMat=loadDataSet()\n",
    "    dataArr=np.array(dataMat)\n",
    "    n=np.shape(dataArr)[0]\n",
    "    xcord1=[];ycord1=[]\n",
    "    xcord2=[];ycord2=[]\n",
    "    for i in range(n):\n",
    "        if int(labelMat[i])==1:\n",
    "            xcord1.append(dataArr[i,1])\n",
    "            ycord1.append(dataArr[i,2])\n",
    "        else:\n",
    "            xcord2.append(dataArr[i,1])\n",
    "            ycord2.append(dataArr[i,2])\n",
    "    fig=plt.figure()\n",
    "    ax=fig.add_subplot(111)\n",
    "    ax.scatter(xcord1,ycord1,s=30,c='red',marker='s')\n",
    "    ax.scatter(xcord2,ycord2,s=30,c='green')\n",
    "    x=np.arange(-3.0,3.0,0.1)  #创建数组，（起始点，终止点，步长）\n",
    "    y=(-weights[0]-weights[1]*x)/weights[2]  #y即x2\n",
    "    ax.plot(x,y)\n",
    "    plt.xlabel('X1')\n",
    "    plt.ylabel('X2')\n",
    "    plt.show()\n",
    "    \n",
    "        "
   ]
  },
  {
   "cell_type": "code",
   "execution_count": 22,
   "metadata": {},
   "outputs": [
    {
     "name": "stdout",
     "output_type": "stream",
     "text": [
      "[[ 4.12414349]\n",
      " [ 0.48007329]\n",
      " [-0.6168482 ]]\n"
     ]
    },
    {
     "data": {
      "image/png": "[encoded data removed]",
      "text/plain": [
       "<Figure size 432x288 with 1 Axes>"
      ]
     },
     "metadata": {},
     "output_type": "display_data"
    }
   ],
   "source": [
    "weights=gradAscent(dataArr,labelMat)\n",
    "print(weights)\n",
    "plotBestFit(weights.getA())"
   ]
  },
  {
   "cell_type": "markdown",
   "metadata": {},
   "source": [
    "### 随机梯度上升算法 \n"
   ]
  },
  {
   "cell_type": "code",
   "execution_count": 33,
   "metadata": {},
   "outputs": [],
   "source": [
    "def stoGradAscent0(dataMatrix,classLabels):\n",
    "    m,n=np.shape(dataMatrix)\n",
    "    alpha=0.01\n",
    "    weights=np.ones(n)\n",
    "    for i in range(m): #迭代了100次\n",
    "        h=sigmoid(sum(dataMatrix[i]*weights))\n",
    "        error=classLabels[i]-h\n",
    "        weights=weights+alpha*error*dataMatrix[i]  #error是一个数和dataMatrix[i]是一个1*3的矩阵\n",
    "    return weights"
   ]
  },
  {
   "cell_type": "code",
   "execution_count": 34,
   "metadata": {},
   "outputs": [
    {
     "name": "stdout",
     "output_type": "stream",
     "text": [
      "[[ 1.       -0.017612 14.053064]\n",
      " [ 1.       -1.395634  4.662541]\n",
      " [ 1.       -0.752157  6.53862 ]\n",
      " [ 1.       -1.322371  7.152853]\n",
      " [ 1.        0.423363 11.054677]]\n",
      "[0, 1, 0, 0, 0]\n"
     ]
    },
    {
     "data": {
      "image/png": "[encoded data removed]",
      "text/plain": [
       "<Figure size 432x288 with 1 Axes>"
      ]
     },
     "metadata": {},
     "output_type": "display_data"
    }
   ],
   "source": [
    "print(np.mat(dataArr[:5]))\n",
    "print(labelMat[:5])\n",
    "weights=stoGradAscent0(np.array(dataArr),labelMat)\n",
    "plotBestFit(weights)"
   ]
  },
  {
   "cell_type": "markdown",
   "metadata": {},
   "source": [
    "图中得到的结果显示随机梯度效果不好，但随机梯度下降迭代了100次，而之前的梯度下降算法迭代了500次。  \n",
    "一个判断优化算法优劣的可靠方法是看它是否收敛，也就是参数是否达到了稳定值，是否还会不断变化。"
   ]
  },
  {
   "cell_type": "markdown",
   "metadata": {},
   "source": [
    "### 改进的随机梯度上升算法"
   ]
  },
  {
   "cell_type": "code",
   "execution_count": 42,
   "metadata": {},
   "outputs": [],
   "source": [
    "def stocGradAscent1(dataMatrix,classLabels,numIter=150):\n",
    "    m,n=np.shape(dataMatrix)\n",
    "    weights=np.ones(n)\n",
    "    for j in range(numIter):\n",
    "        for i in range(m):\n",
    "            dataIndex=list(range(m))\n",
    "            alpha=4/(1.0+j+i)+0.01  #alpha每次迭代时需要调整\n",
    "            randIndex=int(np.random.uniform(0,len(dataIndex)))  #产生随机数\n",
    "            h=sigmoid(sum(dataMatrix[randIndex]*weights))   #通过随机选取样本来更新回归系数，用完之后再从随机数列表中删掉该值--减少周期性的波动\n",
    "            error=classLabels[randIndex]-h\n",
    "            weights=weights+alpha*error*dataMatrix[randIndex]\n",
    "            del(dataIndex[randIndex])\n",
    "    return weights\n"
   ]
  },
  {
   "cell_type": "code",
   "execution_count": 44,
   "metadata": {},
   "outputs": [
    {
     "data": {
      "image/png": "[encoded data removed]",
      "text/plain": [
       "<Figure size 432x288 with 1 Axes>"
      ]
     },
     "metadata": {},
     "output_type": "display_data"
    }
   ],
   "source": [
    "weights=stocGradAscent1(np.array(dataArr),labelMat)\n",
    "plotBestFit(weights)"
   ]
  },
  {
   "cell_type": "code",
   "execution_count": 45,
   "metadata": {},
   "outputs": [
    {
     "data": {
      "image/png": "[encoded data removed]",
      "text/plain": [
       "<Figure size 432x288 with 1 Axes>"
      ]
     },
     "metadata": {},
     "output_type": "display_data"
    }
   ],
   "source": [
    "weights=stocGradAscent1(np.array(dataArr),labelMat,500)\n",
    "plotBestFit(weights)"
   ]
  },
  {
   "cell_type": "markdown",
   "metadata": {},
   "source": [
    "### 示例1：从疝气病症预测病马的死亡率"
   ]
  },
  {
   "cell_type": "markdown",
   "metadata": {},
   "source": [
    "（1）收集数据：给定数据文件  \n",
    "（2）准备数据：用python解析文本文件并填充缺失值  \n",
    "（3）分析数据：可视化并观察数据  \n",
    "（4）训练算法：使用优化算法，找到最佳的系数  \n",
    "（5）测试算法：为了量化回归的效果，需要观察错误率。根据错误率决定是否回退到训练阶段，通过改变迭代的次数和步长等参数来得到更好的回归系数  \n",
    "（6）使用算法"
   ]
  },
  {
   "cell_type": "markdown",
   "metadata": {},
   "source": [
    "#### （1）准备数据：处理数据中的缺失值\n",
    "a.使用可用特征的均值来填补缺失值  \n",
    "b.使用特殊值来填补缺失值，如-1  \n",
    "c.忽略有缺失值的样本  \n",
    "d.使用相似样本的均值添补缺失值  \n",
    "e.使用另外的机器学习算法预测缺失值  \n",
    "   \n",
    "数据预处理：  \n",
    "   &nbsp; &nbsp;a.所有的缺失值必须用一个实数值来替换，因为使用的NumPy数据类型不允许包含缺失值。  \n",
    "   &nbsp; &nbsp;这里选择实数0来替换所有的缺失值，恰好能适用于logistic回归，在更新时不会影响系数的值。  \n",
    "   &nbsp; &nbsp;b.因为sigmoid(0)=0.5,对结果的预测不具有任何倾向性，因此不会对误差项造成任何影响。  \n",
    "   &nbsp; &nbsp;c.该数据集中特征取值一般不为0，因此在某种意义上也满足“特殊值”这个要求。  \n",
    "       \n",
    "  &nbsp;&nbsp;&nbsp;&nbsp; 如果测试数据集中发现了一条数据的类别标签已经缺失，简单做法就是将该条数据丢弃。（因为类别标签与特征不同，很难确定采用某个合适的值来替换），这种方法对logistic回归进行分类是合理的，采用类似KNN的方法就不太可行。\n",
    "    "
   ]
  },
  {
   "cell_type": "code",
   "execution_count": 58,
   "metadata": {},
   "outputs": [],
   "source": [
    "#测试算法\n",
    "#logistic回归进行分类：把测试集上的每个特征向量乘以最优化方法得来的回归系数，再将该乘积结果求和，最后输入到sigmoid函数中即可\n",
    "def classifyVector(inX,weights):\n",
    "    prob=sigmoid(sum(inX*weights))\n",
    "    if prob>0.5:\n",
    "        return 1.0\n",
    "    else:\n",
    "        return 0.0\n",
    "\n",
    "def colicTest():\n",
    "    frTrain=open('horseColicTraining.txt')\n",
    "    frTest=open('horseColicTest.txt')\n",
    "    trainingSet=[]\n",
    "    trainingLabels=[]\n",
    "    for line in frTrain.readlines():\n",
    "        currLine=line.strip().split('\\t')\n",
    "        lineArr=[]\n",
    "        for i in range(21):\n",
    "            lineArr.append(float(currLine[i]))\n",
    "        trainingSet.append(lineArr)\n",
    "        trainingLabels.append(float(currLine[21]))\n",
    "    trainWeights=stocGradAscent1(np.array(trainingSet),trainingLabels,500)\n",
    "    errorCount=0\n",
    "    numTestVec=0.0\n",
    "    for line in frTest.readlines():\n",
    "        numTestVec+=1.0\n",
    "        currLine=line.strip().split('\\t')\n",
    "        lineArr=[]\n",
    "        for i in range(21):\n",
    "            lineArr.append(float(currLine[i]))\n",
    "        if int(classifyVector(np.array(lineArr),trainWeights))!=int(currLine[21]):\n",
    "            errorCount+=1\n",
    "    errorRate=(float(errorCount)/numTestVec)\n",
    "    print(\"the error rate of this test is: %f\" % errorRate)\n",
    "    return errorRate\n",
    "\n",
    "def multiTest():\n",
    "    numTests=10\n",
    "    errorSum=0.0\n",
    "    for k in range(numTests):\n",
    "        errorSum+=colicTest()\n",
    "    print(\"after %d iterations the average error rate is: %f\" % (numTests,errorSum/float(numTests)))\n",
    "        "
   ]
  },
  {
   "cell_type": "code",
   "execution_count": 59,
   "metadata": {},
   "outputs": [
    {
     "name": "stdout",
     "output_type": "stream",
     "text": [
      "the error rate of this test is: 0.313433\n",
      "the error rate of this test is: 0.298507\n",
      "the error rate of this test is: 0.283582\n",
      "the error rate of this test is: 0.671642\n",
      "the error rate of this test is: 0.283582\n",
      "the error rate of this test is: 0.358209\n",
      "the error rate of this test is: 0.298507\n",
      "the error rate of this test is: 0.537313\n",
      "the error rate of this test is: 0.268657\n",
      "the error rate of this test is: 0.283582\n",
      "after 10 iterations the average error rate is: 0.359701\n"
     ]
    }
   ],
   "source": [
    "multiTest()"
   ]
  },
  {
   "cell_type": "code",
   "execution_count": 61,
   "metadata": {},
   "outputs": [],
   "source": [
    "frTrain=open('horseColicTraining.txt')\n",
    "frTest=open('horseColicTest.txt')\n",
    "trainingSet=[];testSet=[]\n",
    "trainingLabels=[];testLabels=[]\n",
    "for line in frTrain.readlines():\n",
    "    currLine=line.strip().split('\\t')\n",
    "    lineArr=[]\n",
    "    for i in range(21):\n",
    "        lineArr.append(float(currLine[i]))\n",
    "    trainingSet.append(lineArr)\n",
    "    trainingLabels.append(float(currLine[21]))\n",
    "for line in frTest.readlines():\n",
    "    currLine=line.strip().split('\\t')\n",
    "    lineArr=[]\n",
    "    for i in range(21):\n",
    "        lineArr.append(float(currLine[i]))\n",
    "    testSet.append(lineArr)\n",
    "    testLabels.append(float(currLine[21]))"
   ]
  },
  {
   "cell_type": "code",
   "execution_count": 62,
   "metadata": {},
   "outputs": [
    {
     "name": "stdout",
     "output_type": "stream",
     "text": [
      "(299, 21)\n",
      "(67, 21)\n"
     ]
    }
   ],
   "source": [
    "print(np.array(trainingSet).shape)\n",
    "print(np.array(testSet).shape)"
   ]
  },
  {
   "cell_type": "code",
   "execution_count": null,
   "metadata": {},
   "outputs": [],
   "source": []
  }
 ],
 "metadata": {
  "kernelspec": {
   "display_name": "Python 3",
   "language": "python",
   "name": "python3"
  },
  "language_info": {
   "codemirror_mode": {
    "name": "ipython",
    "version": 3
   },
   "file_extension": ".py",
   "mimetype": "text/x-python",
   "name": "python",
   "nbconvert_exporter": "python",
   "pygments_lexer": "ipython3",
   "version": "3.6.5"
  }
 },
 "nbformat": 4,
 "nbformat_minor": 2
}
