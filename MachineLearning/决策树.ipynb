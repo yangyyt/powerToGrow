{
 "cells": [
  {
   "cell_type": "markdown",
   "metadata": {},
   "source": [
    "# 决策树"
   ]
  },
  {
   "cell_type": "markdown",
   "metadata": {},
   "source": [
    "### 原理"
   ]
  },
  {
   "cell_type": "markdown",
   "metadata": {},
   "source": [
    "得到原始数据集，然后基于最好的属性值划分数据集，由于特征值可能多于两个，因此可能可能存在大于两个分支的数据集划分。第一次划分完成之后，数据集将被向下传递到树分支的下一个节点，在这个节点上，我们可以再次划分数据。因此我们可以采用递归的原则处理数据集。\n",
    "递归结束的条件是：程序遍历完所有划分数据集的属性，或者每个分支下的所有实例都具有相同的分类。如果所有的实例具有相同的分类，则得到一个叶子节点或者终止块。任何到达叶子节点的数据必然属于叶子节点的分类。"
   ]
  },
  {
   "cell_type": "markdown",
   "metadata": {},
   "source": [
    "### 特征的选择，决策树的生成，决策树的剪枝"
   ]
  },
  {
   "cell_type": "markdown",
   "metadata": {},
   "source": [
    "待补充"
   ]
  },
  {
   "cell_type": "markdown",
   "metadata": {},
   "source": [
    "### 代码实现"
   ]
  },
  {
   "cell_type": "code",
   "execution_count": 68,
   "metadata": {},
   "outputs": [],
   "source": [
    "#计算给定数据集的香浓熵(熵越高，混合的数据越多，在数据集中就可以添加更多的分类)\n",
    "from math import log\n",
    "def calcShannonEnt(dataSet):\n",
    "    numEntries=len(dataSet)  #数据集中实例的总数\n",
    "    labelCounts={}    #初始化空字典，为所有分类创建字典\n",
    "    for featVec in dataSet:\n",
    "        currentLabel=featVec[-1]  #每一行的样本的最后一个是标签（字典中的key）\n",
    "        if currentLabel not in labelCounts.keys():  #如果字典中不存在此标签，就把标签最为key加入，同时初始其value为0\n",
    "            labelCounts[currentLabel]=0 \n",
    "        labelCounts[currentLabel]+=1        #字典中已存在此标签，就把该标签对应的value值加加\n",
    "    shannonEnt=0.0            #初始化香浓熵为0\n",
    "    for key in labelCounts:\n",
    "        prob=float(labelCounts[key])/numEntries   #标签为key的样本的数目（也就是key所对应的的value）/样本总数\n",
    "        shannonEnt-=prob*log(prob,2)  #按照香浓熵公式求算\n",
    "    return shannonEnt"
   ]
  },
  {
   "cell_type": "code",
   "execution_count": 93,
   "metadata": {},
   "outputs": [],
   "source": [
    "def createDataSet():\n",
    "    dataSet=[[1,1,'yes'],\n",
    "            [1,1,'yes'],\n",
    "            [0,1,'no'],\n",
    "            [1,0,'no'],\n",
    "            [0,1,'no']]\n",
    "    labels=['no surfacing','flippers']\n",
    "    return dataSet,labels"
   ]
  },
  {
   "cell_type": "code",
   "execution_count": 94,
   "metadata": {},
   "outputs": [
    {
     "name": "stdout",
     "output_type": "stream",
     "text": [
      "[[1, 1, 'yes'], [1, 1, 'yes'], [0, 1, 'no'], [1, 0, 'no'], [0, 1, 'no']]\n",
      "['no surfacing', 'flippers']\n",
      "0.9709505944546686\n",
      "[[1, 1, 'maybe'], [1, 1, 'yes'], [0, 1, 'no'], [1, 0, 'no'], [0, 1, 'no']]\n",
      "[[1, 1, 'maybe'], [1, 1, 'yes'], [0, 1, 'no'], [1, 0, 'no'], [0, 1, 'no']]\n",
      "1.3709505944546687\n"
     ]
    }
   ],
   "source": [
    "myDat,labels=createDataSet()\n",
    "print(myDat)\n",
    "print(labels)\n",
    "print(calcShannonEnt(myDat))\n",
    "myDat2=myDat\n",
    "myDat2[0][-1]='maybe'\n",
    "print(myDat2)\n",
    "print(myDat)  #myDat和myDat2都变了\n",
    "print(calcShannonEnt(myDat2))\n",
    "myDat[0][-1]='yes'\n",
    "#得到熵之后可以按照获取的最大信息增益的方法划分数据集（另外还可以采用基尼不纯度进行度量集合无序程度的方法）"
   ]
  },
  {
   "cell_type": "code",
   "execution_count": 71,
   "metadata": {},
   "outputs": [],
   "source": [
    "#按照给定特征划分数据集\n",
    "#最后返回的是从axis特征对应的值为value的样本去除axis列的数据\n",
    "def splitDataSet(dataSet,axis,value):  #待划分的数据集，划分数据集的特征，需要返回的特征的值\n",
    "    retDataSet=[]    #创建一个新的list对象\n",
    "    for featVec in dataSet:  #遍历数据集\n",
    "        if featVec[axis]==value:     #遍历的样本的axis特征若为指定的值\n",
    "            reducedFeatVec=featVec[:axis]   #axis之前的内容，当遍历第一个样本时，若axis=0,此处为[];\n",
    "            reducedFeatVec.extend(featVec[axis+1:]) #axis特征之后的值，当遍历第一个样本时，若axis=0,此处为[1,'maybe']\n",
    "            retDataSet.append(reducedFeatVec) #类似[1,'maybe']的集合\n",
    "    return retDataSet"
   ]
  },
  {
   "cell_type": "code",
   "execution_count": 72,
   "metadata": {},
   "outputs": [
    {
     "name": "stdout",
     "output_type": "stream",
     "text": [
      "[[1, 'yes'], [1, 'yes'], [0, 'no']]\n",
      "[[1, 'yes'], [1, 'yes'], [0, 'no'], [0, 'no']]\n"
     ]
    }
   ],
   "source": [
    "print(splitDataSet(myDat,0,1))\n",
    "print(splitDataSet(myDat,1,1))"
   ]
  },
  {
   "cell_type": "code",
   "execution_count": 73,
   "metadata": {},
   "outputs": [],
   "source": [
    "#选择最好的数据集划分方式\n",
    "def chooseBestFeatureToSplit(dataSet):\n",
    "    numFeatures=len(dataSet[0])-1  #特征数目\n",
    "    baseEntropy=calcShannonEnt(dataSet) #计算整个数据集的熵\n",
    "    bestInfoGain=0.0 #初始化最好的增益为0\n",
    "    bestFeature=-1 \n",
    "    for i in range(numFeatures): #遍历所有的特征\n",
    "        featList=[example[i] for example in dataSet]  #此特征下所有样本的取值（也即特征属性）\n",
    "        uniqueVals=set(featList)  #特征属性去重重复属性，特征的属性取值\n",
    "        newEntropy=0.0  \n",
    "        for value in uniqueVals:  \n",
    "            subDataSet=splitDataSet(dataSet,i,value) #对特征i以取值value为划分点对样本进行划分，划分出的是i特征取值为value的样本\n",
    "            prob=len(subDataSet)/float(len(dataSet))\n",
    "            newEntropy+=prob*calcShannonEnt(subDataSet)\n",
    "        infoGain=baseEntropy-newEntropy\n",
    "        if (infoGain>bestInfoGain):\n",
    "            bestInfoGain=infoGain\n",
    "            bestFeature=i\n",
    "    return bestFeature\n",
    "            \n"
   ]
  },
  {
   "cell_type": "code",
   "execution_count": 74,
   "metadata": {},
   "outputs": [
    {
     "data": {
      "text/plain": [
       "0"
      ]
     },
     "execution_count": 74,
     "metadata": {},
     "output_type": "execute_result"
    }
   ],
   "source": [
    "chooseBestFeatureToSplit(myDat)"
   ]
  },
  {
   "cell_type": "code",
   "execution_count": 95,
   "metadata": {},
   "outputs": [
    {
     "data": {
      "text/plain": [
       "[[1, 1, 'yes'], [1, 1, 'yes'], [0, 1, 'no'], [1, 0, 'no'], [0, 1, 'no']]"
      ]
     },
     "execution_count": 95,
     "metadata": {},
     "output_type": "execute_result"
    }
   ],
   "source": [
    "myDat"
   ]
  },
  {
   "cell_type": "markdown",
   "metadata": {},
   "source": [
    "其他的决策树算法，如c4.5和CART,这些算法在运行的时候并不总是在每次划分分组时都会消耗特征，这在实际应用中就会引起一定的问题。在机器学习实战中并不考虑此问题，只需要在算法开始运行前计算列的数目，查看算法是否使用了所有属性即可。如果数据及已经处理了所有的属性，但是类标签依然不是唯一的，此时需要决定如何定义该叶子节点，通常采用的是多数表决的方法。"
   ]
  },
  {
   "cell_type": "code",
   "execution_count": 96,
   "metadata": {},
   "outputs": [],
   "source": [
    "#遍历完所有的特征，返回出现次数最多的类别\n",
    "import operator\n",
    "def majorityCnt(classList):\n",
    "    classCount={}  #类：次数-空字典\n",
    "    for vote in classList: #遍历类别，并统计每个类别出现的次数\n",
    "        if vote not in classCount.keys():\n",
    "            classCount[vote]=0\n",
    "        classCount[vote]+=1\n",
    "    sortedClassCount=sorted(classCount.items(),key=operator.itemgetter(1),reverse=True) #字典分解为元组列表，按照第二个元素的次序对元组进行排序（逆序）\n",
    "    return sortedClassCount[0][0] #返回出现次数最多的类别数"
   ]
  },
  {
   "cell_type": "code",
   "execution_count": 97,
   "metadata": {},
   "outputs": [],
   "source": [
    "#创建树的函数代码\n",
    "def createTree(dataSet,labels):\n",
    "    classList=[example[-1] for example in dataSet] #取出数据集中的类别列\n",
    "    if classList.count(classList[0])==len(classList): #类别列表中的第一个列表的长度等于类别列表总长的时候，说明类别已经全是一类，不用再分\n",
    "        return classList[0]\n",
    "    if len(dataSet[0])==1: #遍历完所有的特征时\n",
    "        return majorityCnt(classList)  #返回出现次数最多的类别\n",
    "    bestFeat=chooseBestFeatureToSplit(dataSet) #信息增益最大的特征的序号\n",
    "    bestFeatLabel=labels[bestFeat]\n",
    "    myTree={bestFeatLabel:{}}  #决策树的根节点\n",
    "    del(labels[bestFeat])  #删除此特征\n",
    "    featValues=[example[bestFeat] for example in dataSet] #划分特征的所有属性值\n",
    "    uniqueVals=set(featValues)  #属性去重\n",
    "    for value in uniqueVals:\n",
    "        subLabels=labels[:]\n",
    "        myTree[bestFeatLabel][value]=createTree(splitDataSet(dataSet,bestFeat,value),subLabels)\n",
    "    return myTree\n",
    "    \n",
    "    "
   ]
  },
  {
   "cell_type": "code",
   "execution_count": 98,
   "metadata": {},
   "outputs": [],
   "source": [
    "myTree=createTree(myDat,labels)\n"
   ]
  },
  {
   "cell_type": "code",
   "execution_count": 102,
   "metadata": {},
   "outputs": [
    {
     "data": {
      "text/plain": [
       "'no surfacing'"
      ]
     },
     "execution_count": 102,
     "metadata": {},
     "output_type": "execute_result"
    }
   ],
   "source": [
    "list(myTree.keys())[0]"
   ]
  },
  {
   "cell_type": "markdown",
   "metadata": {},
   "source": [
    "### 使用Matplotlib注解绘制树形图"
   ]
  },
  {
   "cell_type": "code",
   "execution_count": 45,
   "metadata": {},
   "outputs": [],
   "source": [
    "#使用文本注解绘制树节点\n",
    "import matplotlib.pyplot as plt\n",
    "%matplotlib inline\n",
    "#以下两行是为了正常显示汉字\n",
    "plt.rcParams['font.sans-serif']=['SimHei']\n",
    "plt.rcParams['axes.unicode_minus']=False\n",
    "\n",
    "decisionNode=dict(boxstyle=\"sawtooth\",fc=\"0.8\")  #定义文本框\n",
    "leafNode=dict(boxstyle=\"round4\",fc=\"0.8\")\n",
    "arrow_args=dict(arrowstyle=\"<-\")  #箭头格式\n",
    "\n",
    "#创建绘图区\n",
    "def createPlot():\n",
    "    fig=plt.figure(1,facecolor='white')\n",
    "    fig.clf()\n",
    "    createPlot.ax1=plt.subplot(111,frameon=False)\n",
    "    plotNode('决策节点',(0.5,0.1),(0.1,0.5),decisionNode)\n",
    "    plotNode('叶节点',(0.8,0.1),(0.3,0.8),leafNode)\n",
    "    plt.show()\n",
    "\n",
    "#实际的绘图功能\n",
    "def plotNode(nodeTxt,centerPt,parentPt,nodeType): #绘制带箭头的注解\n",
    "    createPlot.ax1.annotate(nodeTxt,xy=parentPt,xycoords='axes fraction',xytext=centerPt,\\\n",
    "                            textcoords='axes fraction',va=\"center\",ha=\"center\",bbox=nodeType,arrowprops=arrow_args)\n",
    "    \n",
    "    \n"
   ]
  },
  {
   "cell_type": "code",
   "execution_count": 46,
   "metadata": {},
   "outputs": [
    {
     "data": {
      "image/png": "[encoded data removed]",
      "text/plain": [
       "<Figure size 432x288 with 1 Axes>"
      ]
     },
     "metadata": {},
     "output_type": "display_data"
    }
   ],
   "source": [
    "createPlot()"
   ]
  },
  {
   "cell_type": "markdown",
   "metadata": {},
   "source": [
    "### 构造注解树 "
   ]
  },
  {
   "cell_type": "code",
   "execution_count": 113,
   "metadata": {},
   "outputs": [
    {
     "name": "stdout",
     "output_type": "stream",
     "text": [
      "{'no surfacing': {0: 'no', 1: {'flippers': {0: 'no', 1: 'yes'}}}}\n",
      "['no surfacing']\n",
      "dict_keys([0, 1])\n"
     ]
    }
   ],
   "source": [
    "print(myTree)\n",
    "root=list(myTree.keys())\n",
    "print(root)\n",
    "secDict=myTree[root[0]].keys()\n",
    "print(secDict)"
   ]
  },
  {
   "cell_type": "code",
   "execution_count": 125,
   "metadata": {},
   "outputs": [],
   "source": [
    "# 获取叶节点的数目和树的层数\n",
    "def getNumLeafs(myTree):\n",
    "    numLeafs=0\n",
    "    firstStr=list(myTree.keys())[0]  #python3改变了dict.keys,返回的是dict_keys对象，支持iterable,不支持indexable\n",
    "    secondDict=myTree[firstStr]\n",
    "    for key in secondDict.keys():\n",
    "        if type(secondDict[key]).__name__=='dict':  #type测试节点的数据类型是否为字典\n",
    "            numLeafs += getNumLeafs(secondDict[key])\n",
    "        else:\n",
    "            numLeafs += 1\n",
    "    return numLeafs\n",
    "\n",
    "def getTreeDepth(myTree):\n",
    "    maxDepth=0\n",
    "    firstStr=list(myTree.keys())[0]\n",
    "    secondDict = myTree[firstStr]\n",
    "    for key in secondDict.keys():\n",
    "        if type(secondDict[key]).__name__=='dict':\n",
    "            thisDepth=1+getTreeDepth(secondDict[key])\n",
    "        else:\n",
    "            thisDepth=1\n",
    "        if thisDepth > maxDepth:\n",
    "            maxDepth=thisDepth\n",
    "    return maxDepth"
   ]
  },
  {
   "cell_type": "code",
   "execution_count": 120,
   "metadata": {},
   "outputs": [],
   "source": [
    "#定义retrieveTree输出预先存储的树信息，避免了每次测试代码时都要从数据中创建树的麻烦\n",
    "def retrieveTree(i):\n",
    "    listOfTrees=[{'no surfacing': {0: 'no', 1: {'flippers': {0: 'no', 1: 'yes'}}}},\n",
    "                 {'no surfacing': {0: 'no', 1: {'flippers': {0:{'head': {0: 'no', 1: 'yes'}}, 1: 'no'}}}}\n",
    "                ]\n",
    "    return listOfTrees[i]"
   ]
  },
  {
   "cell_type": "code",
   "execution_count": 126,
   "metadata": {},
   "outputs": [
    {
     "name": "stdout",
     "output_type": "stream",
     "text": [
      "{'no surfacing': {0: 'no', 1: {'flippers': {0: {'head': {0: 'no', 1: 'yes'}}, 1: 'no'}}}}\n",
      "{'no surfacing': {0: 'no', 1: {'flippers': {0: 'no', 1: 'yes'}}}}\n",
      "3\n",
      "2\n"
     ]
    }
   ],
   "source": [
    "print(retrieveTree(1))\n",
    "print(retrieveTree(0))\n",
    "print(getNumLeafs(myTree))\n",
    "print(getTreeDepth(myTree))"
   ]
  },
  {
   "cell_type": "code",
   "execution_count": 144,
   "metadata": {},
   "outputs": [],
   "source": [
    "#plotTree函数\n",
    "def plotMidText(cntrPt,parentPt,txtString): #在父子节点间填充信息\n",
    "    xMid=(parentPt[0]-cntrPt[0])/2.0+cntrPt[0]\n",
    "    yMid=(parentPt[1]-cntrPt[1])/2.0+cntrPt[1]\n",
    "    createPlot.ax1.text(xMid,yMid,txtString)\n",
    "\n",
    "def plotTree(myTree,parentPt,nodeTxt):\n",
    "    numLeafs=getNumLeafs(myTree)\n",
    "    depth=getTreeDepth(myTree)\n",
    "    firstStr=list(myTree.keys())[0]\n",
    "    cntrPt=(plotTree.xOff+(1.0+float(numLeafs))/2.0/plotTree.totalW,plotTree.yOff)\n",
    "    plotMidText(cntrPt,parentPt,nodeTxt)  #标记子节点属性值\n",
    "    plotNode(firstStr,cntrPt,parentPt,decisionNode)\n",
    "    secondDict=myTree[firstStr]\n",
    "    plotTree.yOff=plotTree.yOff-1.0/plotTree.totalD\n",
    "    for key in secondDict.keys():\n",
    "        if type(secondDict[key]).__name__=='dict':\n",
    "            plotTree(secondDict[key],cntrPt,str(key))\n",
    "        else:\n",
    "            plotTree.xOff=plotTree.xOff+1.0/plotTree.totalW\n",
    "            plotNode(secondDict[key],(plotTree.xOff,plotTree.yOff),cntrPt,leafNode)\n",
    "            plotMidText((plotTree.xOff,plotTree.yOff),cntrPt,str(key))\n",
    "    plotTree.yOff=plotTree.yOff+1.0/plotTree.totalD\n",
    "   \n",
    "    \n",
    "def createPlot(inTree):\n",
    "    fig=plt.figure(1,facecolor='white')\n",
    "    fig.clf()\n",
    "    axprops=dict(xticks=[],yticks=[])\n",
    "    createPlot.ax1=plt.subplot(111,frameon=False,**axprops)\n",
    "    plotTree.totalW=float(getNumLeafs(inTree))\n",
    "    plotTree.totalD=float(getTreeDepth(inTree))\n",
    "    plotTree.xOff=-0.5/plotTree.totalW\n",
    "    plotTree.yOff=1.0\n",
    "    plotTree(inTree,(0.5,1.0),'')\n",
    "    plt.show()\n",
    "\n",
    "    "
   ]
  },
  {
   "cell_type": "code",
   "execution_count": 145,
   "metadata": {},
   "outputs": [
    {
     "name": "stdout",
     "output_type": "stream",
     "text": [
      "{'no surfacing': {0: 'no', 1: {'flippers': {0: {'head': {0: 'no', 1: 'yes'}}, 1: 'no'}}}}\n"
     ]
    },
    {
     "data": {
      "image/png": "[encoded data removed]",
      "text/plain": [
       "<Figure size 432x288 with 1 Axes>"
      ]
     },
     "metadata": {},
     "output_type": "display_data"
    }
   ],
   "source": [
    "myTree2=retrieveTree(1)\n",
    "print(myTree2)\n",
    "createPlot(myTree2)"
   ]
  },
  {
   "cell_type": "markdown",
   "metadata": {},
   "source": [
    "### 测试算法"
   ]
  },
  {
   "cell_type": "code",
   "execution_count": 146,
   "metadata": {},
   "outputs": [],
   "source": [
    "#使用决策树的分类函数\n",
    "def classify(inputTree,featLabels,testVec):\n",
    "    firstStr=list(inputTree.keys())[0]\n",
    "    secondDict=inputTree[firstStr]\n",
    "    featIndex=featLabels.index(firstStr) #将类别字符串转换为索引\n",
    "    for key in secondDict.keys():\n",
    "        if testVec[featIndex]==key:\n",
    "            if type(secondDict[key]).__name__=='dict':  #\n",
    "                classLabel=classify(secondDict[key],featLabels,testVec)\n",
    "            else:\n",
    "                classLabel=secondDict[key]\n",
    "    return classLabel\n",
    "    "
   ]
  },
  {
   "cell_type": "code",
   "execution_count": 148,
   "metadata": {},
   "outputs": [
    {
     "name": "stdout",
     "output_type": "stream",
     "text": [
      "{'no surfacing': {0: 'no', 1: {'flippers': {0: 'no', 1: 'yes'}}}}\n",
      "['no surfacing']\n",
      "dict_keys([0, 1])\n"
     ]
    }
   ],
   "source": [
    "print(myTree)\n",
    "root=list(myTree.keys())\n",
    "print(root)\n",
    "secDict=myTree[root[0]].keys()\n",
    "print(secDict)"
   ]
  },
  {
   "cell_type": "code",
   "execution_count": 151,
   "metadata": {},
   "outputs": [
    {
     "name": "stdout",
     "output_type": "stream",
     "text": [
      "no\n",
      "yes\n"
     ]
    }
   ],
   "source": [
    "myDat,labels=createDataSet()\n",
    "myTree=retrieveTree(0)\n",
    "print(classify(myTree,labels,[1,0]))\n",
    "print(classify(myTree,labels,[1,1]))"
   ]
  },
  {
   "cell_type": "markdown",
   "metadata": {},
   "source": [
    "#### 使用算法的时候，先把决策树存储起来，用创建好的决策树解决分类问题，会更节省时间，因为构造决策树是很费时的任务。\n",
    "### 这也是决策树与k-近邻算法的不同，k-近邻无法持久化分类器（预先提炼并存储数据集中包含的知识信息，在需要对事物进行分类时再使用这些知识）"
   ]
  },
  {
   "cell_type": "code",
   "execution_count": 158,
   "metadata": {},
   "outputs": [],
   "source": [
    "#使用pickle模块存储决策树\n",
    "def storeTree(inputTree,filename):\n",
    "    import pickle  #使用python模块pickle序列化对象，序列化对象可以在磁盘上保存对象，并在需要的时候读取出来\n",
    "    fw=open(filename,'wb')\n",
    "    pickle.dump(inputTree,fw)\n",
    "    fw.close()\n",
    "    \n",
    "def grabTree(filename):\n",
    "    import pickle\n",
    "    fr=open(filename,'rb')\n",
    "    return pickle.load(fr)"
   ]
  },
  {
   "cell_type": "code",
   "execution_count": 159,
   "metadata": {},
   "outputs": [
    {
     "data": {
      "text/plain": [
       "{'no surfacing': {0: 'no', 1: {'flippers': {0: 'no', 1: 'yes'}}}}"
      ]
     },
     "execution_count": 159,
     "metadata": {},
     "output_type": "execute_result"
    }
   ],
   "source": [
    "storeTree(myTree,'classifierStorage.txt')\n",
    "grabTree('classifierStorage.txt')"
   ]
  },
  {
   "cell_type": "markdown",
   "metadata": {},
   "source": [
    "### 示例：使用决策树预测隐形眼镜类型"
   ]
  },
  {
   "cell_type": "markdown",
   "metadata": {},
   "source": [
    "（1）收集数据：提供的文本文件  \n",
    "（2）准备数据：解析tab键分隔的数据行\n",
    "（3）分析数据：快速检查数据，确保正确地解析数据内容，使用createPlot()函数绘制最终的树形图   \n",
    "（4）训练算法：使用createTree()函数  \n",
    "（5）测试算法：编写测试函数验证决策树可以正确分类给定的数据实例  \n",
    "（6）使用算法：存储树的数据结构，以便下次使用时无需重新构造树  "
   ]
  },
  {
   "cell_type": "code",
   "execution_count": 167,
   "metadata": {},
   "outputs": [
    {
     "name": "stdout",
     "output_type": "stream",
     "text": [
      "[['young', 'myope', 'no', 'reduced', 'no lenses'], ['young', 'myope', 'no', 'normal', 'soft'], ['young', 'myope', 'yes', 'reduced', 'no lenses'], ['young', 'myope', 'yes', 'normal', 'hard'], ['young', 'hyper', 'no', 'reduced', 'no lenses'], ['young', 'hyper', 'no', 'normal', 'soft'], ['young', 'hyper', 'yes', 'reduced', 'no lenses'], ['young', 'hyper', 'yes', 'normal', 'hard'], ['pre', 'myope', 'no', 'reduced', 'no lenses'], ['pre', 'myope', 'no', 'normal', 'soft'], ['pre', 'myope', 'yes', 'reduced', 'no lenses'], ['pre', 'myope', 'yes', 'normal', 'hard'], ['pre', 'hyper', 'no', 'reduced', 'no lenses'], ['pre', 'hyper', 'no', 'normal', 'soft'], ['pre', 'hyper', 'yes', 'reduced', 'no lenses'], ['pre', 'hyper', 'yes', 'normal', 'no lenses'], ['presbyopic', 'myope', 'no', 'reduced', 'no lenses'], ['presbyopic', 'myope', 'no', 'normal', 'no lenses'], ['presbyopic', 'myope', 'yes', 'reduced', 'no lenses'], ['presbyopic', 'myope', 'yes', 'normal', 'hard'], ['presbyopic', 'hyper', 'no', 'reduced', 'no lenses'], ['presbyopic', 'hyper', 'no', 'normal', 'soft'], ['presbyopic', 'hyper', 'yes', 'reduced', 'no lenses'], ['presbyopic', 'hyper', 'yes', 'normal', 'no lenses']]\n",
      "{'tearRate': {'reduced': 'no lenses', 'normal': {'astigmatic': {'yes': {'prescript': {'myope': 'hard', 'hyper': {'age': {'pre': 'no lenses', 'young': 'hard', 'presbyopic': 'no lenses'}}}}, 'no': {'age': {'pre': 'soft', 'young': 'soft', 'presbyopic': {'prescript': {'myope': 'no lenses', 'hyper': 'soft'}}}}}}}}\n"
     ]
    },
    {
     "data": {
      "image/png": "[encoded data removed]",
      "text/plain": [
       "<Figure size 432x288 with 1 Axes>"
      ]
     },
     "metadata": {},
     "output_type": "display_data"
    }
   ],
   "source": [
    "fr=open('lenses.txt')\n",
    "lenses=[inst.strip().split('\\t') for inst in fr.readlines()]\n",
    "print(lenses)\n",
    "lensesLabels=['age','prescript','astigmatic','tearRate']\n",
    "lensesTree=createTree(lenses,lensesLabels)\n",
    "print(lensesTree)\n",
    "createPlot(lensesTree)"
   ]
  },
  {
   "cell_type": "markdown",
   "metadata": {},
   "source": [
    "### 小结"
   ]
  },
  {
   "cell_type": "markdown",
   "metadata": {},
   "source": [
    "本文中构造决策树的算法是基于信息增益的方式决定划分节点，也称之为ID3算法。ID3的缺点就是无法直接处理数值型数据，尽管可以通过量化的方法将数值型数据转化为标称型数据，但是如果存在太多的特征划分，ID3会面临其他的问题。    \n",
    "数值型数据：可以在无限的数据中取，数值比较具体化（一般用于回归分析）  \n",
    "标称型数据：一般是只存在‘是’和‘否’两种不同的结果（一般用于分类）  \n",
    "  \n",
    "    \n",
    "决策树非常好的匹配了实验数据时，可能匹配的选项太多了，过渡匹配的问题可以通过裁剪决策树，合并相邻的无法产生大量信息增益的叶节点，消除此问题。  \n",
    "\n",
    "ID3的其他问题是什么？\n",
    "CART算法？\n",
    "C4.5算法？\n"
   ]
  },
  {
   "cell_type": "markdown",
   "metadata": {},
   "source": [
    "### 参考"
   ]
  },
  {
   "cell_type": "markdown",
   "metadata": {},
   "source": [
    "《机器学习实战》 [美] Peter Harrington 著 李锐等译"
   ]
  },
  {
   "cell_type": "code",
   "execution_count": null,
   "metadata": {},
   "outputs": [],
   "source": []
  }
 ],
 "metadata": {
  "kernelspec": {
   "display_name": "Python 3",
   "language": "python",
   "name": "python3"
  },
  "language_info": {
   "codemirror_mode": {
    "name": "ipython",
    "version": 3
   },
   "file_extension": ".py",
   "mimetype": "text/x-python",
   "name": "python",
   "nbconvert_exporter": "python",
   "pygments_lexer": "ipython3",
   "version": "3.6.5"
  }
 },
 "nbformat": 4,
 "nbformat_minor": 2
}
